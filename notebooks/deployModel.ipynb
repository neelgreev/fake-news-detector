{
 "cells": [
  {
   "cell_type": "code",
   "execution_count": 1,
   "id": "7c98bce1-89cd-4a7a-b49c-d2bbb77fe9f3",
   "metadata": {},
   "outputs": [
    {
     "name": "stderr",
     "output_type": "stream",
     "text": [
      "2025-07-09 01:22:49.513 \n",
      "  \u001b[33m\u001b[1mWarning:\u001b[0m to view this Streamlit app on a browser, run it with the following\n",
      "  command:\n",
      "\n",
      "    streamlit run C:\\Users\\neelg\\anaconda3\\Lib\\site-packages\\ipykernel_launcher.py [ARGUMENTS]\n",
      "2025-07-09 01:22:49.518 Session state does not function when running a script without `streamlit run`\n"
     ]
    }
   ],
   "source": [
    "import streamlit as st\n",
    "import pickle\n",
    "\n",
    "# Load model and vectorizer using pickle\n",
    "with open('vectorizer.pkl', 'rb') as f:\n",
    "    vectorizer = pickle.load(f)\n",
    "\n",
    "with open('model.pkl', 'rb') as f:\n",
    "    model = pickle.load(f)\n",
    "\n",
    "st.set_page_config(page_title=\"Fake News Detector\", layout=\"centered\")\n",
    "\n",
    "st.title(\"📰 Fake News Detector (Manual with Pickle)\")\n",
    "st.markdown(\"Paste any news article or headline and get a prediction:\")\n",
    "\n",
    "# Input from user\n",
    "user_input = st.text_area(\"Enter News Text:\")\n",
    "\n",
    "if st.button(\"Predict\"):\n",
    "    if user_input.strip() == \"\":\n",
    "        st.warning(\"⚠️ Please enter some text first.\")\n",
    "    else:\n",
    "        # Transform input using loaded vectorizer\n",
    "        X_input = vectorizer.transform([user_input])\n",
    "        prediction = model.predict(X_input)[0]\n",
    "        probability = model.predict_proba(X_input)[0]\n",
    "        confidence = max(probability)\n",
    "\n",
    "        # Show result\n",
    "        if prediction == 1:\n",
    "            st.success(f\"✅ The news is **REAL** with {confidence:.2%} confidence.\")\n",
    "        else:\n",
    "            st.error(f\"🚨 The news is **FAKE** with {confidence:.2%} confidence.\")"
   ]
  },
  {
   "cell_type": "code",
   "execution_count": null,
   "id": "c18bdc0d-c265-4b02-b91b-3d4dc6707ccd",
   "metadata": {},
   "outputs": [],
   "source": []
  }
 ],
 "metadata": {
  "kernelspec": {
   "display_name": "Python [conda env:base] *",
   "language": "python",
   "name": "conda-base-py"
  },
  "language_info": {
   "codemirror_mode": {
    "name": "ipython",
    "version": 3
   },
   "file_extension": ".py",
   "mimetype": "text/x-python",
   "name": "python",
   "nbconvert_exporter": "python",
   "pygments_lexer": "ipython3",
   "version": "3.12.7"
  }
 },
 "nbformat": 4,
 "nbformat_minor": 5
}
